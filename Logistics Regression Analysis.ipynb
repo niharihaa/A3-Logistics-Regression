{
 "cells": [
  {
   "cell_type": "code",
   "execution_count": 1,
   "id": "12787cdb-fde4-45a9-892f-7f0b97647df2",
   "metadata": {},
   "outputs": [],
   "source": [
    "# Import required packages\n",
    "import pandas as pd\n",
    "import numpy as np\n",
    "from sklearn.model_selection import train_test_split\n",
    "from sklearn.linear_model import LogisticRegression\n",
    "from sklearn.metrics import confusion_matrix, accuracy_score, precision_score, recall_score, f1_score, roc_curve, roc_auc_score\n",
    "from sklearn.tree import DecisionTreeClassifier, plot_tree\n",
    "import matplotlib.pyplot as plt\n",
    "import seaborn as sns\n",
    "from statsmodels.stats.outliers_influence import variance_inflation_factor\n",
    "import statsmodels.api as sm"
   ]
  },
  {
   "cell_type": "code",
   "execution_count": 3,
   "id": "0824efdd-b872-4755-8b4b-48975c404285",
   "metadata": {},
   "outputs": [],
   "source": [
    "# Load the dataset\n",
    "file_path = 'C:/Users/nihar/OneDrive/Desktop/Bootcamp/SCMA 632/DataSet/Loan Eligibility Prediction.csv'\n",
    "data = pd.read_csv(file_path)"
   ]
  },
  {
   "cell_type": "code",
   "execution_count": 5,
   "id": "c489d1ca-474b-4185-9fff-512ca154a401",
   "metadata": {},
   "outputs": [],
   "source": [
    "# Convert relevant variables to appropriate types\n",
    "data['Loan_Status'] = data['Loan_Status'].apply(lambda x: 1 if x == 'Y' else 0)\n",
    "categorical_columns = ['Gender', 'Married', 'Dependents', 'Education', 'Self_Employed', 'Property_Area']\n",
    "data[categorical_columns] = data[categorical_columns].astype('category')\n"
   ]
  },
  {
   "cell_type": "code",
   "execution_count": 7,
   "id": "323872c5-b6a7-451f-9d33-8fbf087a8a8d",
   "metadata": {},
   "outputs": [],
   "source": [
    "# Fill missing values\n",
    "data.fillna(data.median(numeric_only=True), inplace=True)\n",
    "data[categorical_columns] = data[categorical_columns].apply(lambda x: x.fillna(x.mode()[0]))\n"
   ]
  },
  {
   "cell_type": "code",
   "execution_count": 10,
   "id": "613724b6-a51a-4405-a52d-ef92eca6296a",
   "metadata": {},
   "outputs": [],
   "source": [
    "# Identify and cap outliers using the IQR method\n",
    "def cap_outliers(x):\n",
    "    q1, q3 = np.percentile(x, [25, 75])\n",
    "    iqr = q3 - q1\n",
    "    lower_bound = q1 - 1.5 * iqr\n",
    "    upper_bound = q3 + 1.5 * iqr\n",
    "    x = np.clip(x, lower_bound, upper_bound)\n",
    "    return x\n",
    "\n",
    "numerical_columns = data.select_dtypes(include=[np.number]).columns\n",
    "data[numerical_columns] = data[numerical_columns].apply(cap_outliers)\n"
   ]
  },
  {
   "cell_type": "code",
   "execution_count": 16,
   "id": "ed68bc06-c51e-4dc5-bb99-4ab80206d8e8",
   "metadata": {},
   "outputs": [
    {
     "name": "stdout",
     "output_type": "stream",
     "text": [
      "Columns with zero variance: []\n"
     ]
    }
   ],
   "source": [
    "# Identify columns with zero variance\n",
    "zero_variance_columns = [col for col in X.columns if X[col].var() == 0]\n",
    "print(\"Columns with zero variance:\", zero_variance_columns)"
   ]
  },
  {
   "cell_type": "code",
   "execution_count": 38,
   "id": "9f50e774-bd31-4cbb-9240-14262dc214f9",
   "metadata": {},
   "outputs": [],
   "source": [
    "# Convert categorical data to numeric using one-hot encoding\n",
    "X = pd.get_dummies(data.drop(columns=['Loan_Status']), drop_first=True)\n",
    "\n",
    "# Ensure all values are numeric and handle any errors\n",
    "X = X.apply(pd.to_numeric, errors='coerce')"
   ]
  },
  {
   "cell_type": "code",
   "execution_count": 40,
   "id": "0547868a-09d0-4071-b06f-f04c9460ab10",
   "metadata": {},
   "outputs": [],
   "source": [
    "# Ensure there are no missing values\n",
    "X = X.fillna(0)\n",
    "\n",
    "# Check for infinite values and replace them\n",
    "X = X.replace([np.inf, -np.inf], 0)"
   ]
  },
  {
   "cell_type": "code",
   "execution_count": 48,
   "id": "cbd5d9af-a170-4ec3-a385-4b2c48832de9",
   "metadata": {},
   "outputs": [],
   "source": [
    "# Split the data into training and testing sets\n",
    "train_data, test_data = train_test_split(data, test_size=0.2, random_state=123)\n",
    "X_train = pd.get_dummies(train_data.drop(columns=['Loan_Status']), drop_first=True)\n",
    "y_train = train_data['Loan_Status']\n",
    "X_test = pd.get_dummies(test_data.drop(columns=['Loan_Status']), drop_first=True)\n",
    "y_test = test_data['Loan_Status']\n"
   ]
  },
  {
   "cell_type": "code",
   "execution_count": 50,
   "id": "4c6bd753-e049-4de4-9ea3-360ee11555f6",
   "metadata": {},
   "outputs": [],
   "source": [
    "# Ensure all values in train and test sets are numeric and handle any errors\n",
    "X_train = X_train.apply(pd.to_numeric, errors='coerce').fillna(0).replace([np.inf, -np.inf], 0)\n",
    "X_test = X_test.apply(pd.to_numeric, errors='coerce').fillna(0).replace([np.inf, -np.inf], 0)\n"
   ]
  },
  {
   "cell_type": "code",
   "execution_count": 52,
   "id": "0b79fcf3-6490-4e5e-b36b-cb1ceb377761",
   "metadata": {},
   "outputs": [
    {
     "data": {
      "text/html": [
       "<style>#sk-container-id-1 {color: black;background-color: white;}#sk-container-id-1 pre{padding: 0;}#sk-container-id-1 div.sk-toggleable {background-color: white;}#sk-container-id-1 label.sk-toggleable__label {cursor: pointer;display: block;width: 100%;margin-bottom: 0;padding: 0.3em;box-sizing: border-box;text-align: center;}#sk-container-id-1 label.sk-toggleable__label-arrow:before {content: \"▸\";float: left;margin-right: 0.25em;color: #696969;}#sk-container-id-1 label.sk-toggleable__label-arrow:hover:before {color: black;}#sk-container-id-1 div.sk-estimator:hover label.sk-toggleable__label-arrow:before {color: black;}#sk-container-id-1 div.sk-toggleable__content {max-height: 0;max-width: 0;overflow: hidden;text-align: left;background-color: #f0f8ff;}#sk-container-id-1 div.sk-toggleable__content pre {margin: 0.2em;color: black;border-radius: 0.25em;background-color: #f0f8ff;}#sk-container-id-1 input.sk-toggleable__control:checked~div.sk-toggleable__content {max-height: 200px;max-width: 100%;overflow: auto;}#sk-container-id-1 input.sk-toggleable__control:checked~label.sk-toggleable__label-arrow:before {content: \"▾\";}#sk-container-id-1 div.sk-estimator input.sk-toggleable__control:checked~label.sk-toggleable__label {background-color: #d4ebff;}#sk-container-id-1 div.sk-label input.sk-toggleable__control:checked~label.sk-toggleable__label {background-color: #d4ebff;}#sk-container-id-1 input.sk-hidden--visually {border: 0;clip: rect(1px 1px 1px 1px);clip: rect(1px, 1px, 1px, 1px);height: 1px;margin: -1px;overflow: hidden;padding: 0;position: absolute;width: 1px;}#sk-container-id-1 div.sk-estimator {font-family: monospace;background-color: #f0f8ff;border: 1px dotted black;border-radius: 0.25em;box-sizing: border-box;margin-bottom: 0.5em;}#sk-container-id-1 div.sk-estimator:hover {background-color: #d4ebff;}#sk-container-id-1 div.sk-parallel-item::after {content: \"\";width: 100%;border-bottom: 1px solid gray;flex-grow: 1;}#sk-container-id-1 div.sk-label:hover label.sk-toggleable__label {background-color: #d4ebff;}#sk-container-id-1 div.sk-serial::before {content: \"\";position: absolute;border-left: 1px solid gray;box-sizing: border-box;top: 0;bottom: 0;left: 50%;z-index: 0;}#sk-container-id-1 div.sk-serial {display: flex;flex-direction: column;align-items: center;background-color: white;padding-right: 0.2em;padding-left: 0.2em;position: relative;}#sk-container-id-1 div.sk-item {position: relative;z-index: 1;}#sk-container-id-1 div.sk-parallel {display: flex;align-items: stretch;justify-content: center;background-color: white;position: relative;}#sk-container-id-1 div.sk-item::before, #sk-container-id-1 div.sk-parallel-item::before {content: \"\";position: absolute;border-left: 1px solid gray;box-sizing: border-box;top: 0;bottom: 0;left: 50%;z-index: -1;}#sk-container-id-1 div.sk-parallel-item {display: flex;flex-direction: column;z-index: 1;position: relative;background-color: white;}#sk-container-id-1 div.sk-parallel-item:first-child::after {align-self: flex-end;width: 50%;}#sk-container-id-1 div.sk-parallel-item:last-child::after {align-self: flex-start;width: 50%;}#sk-container-id-1 div.sk-parallel-item:only-child::after {width: 0;}#sk-container-id-1 div.sk-dashed-wrapped {border: 1px dashed gray;margin: 0 0.4em 0.5em 0.4em;box-sizing: border-box;padding-bottom: 0.4em;background-color: white;}#sk-container-id-1 div.sk-label label {font-family: monospace;font-weight: bold;display: inline-block;line-height: 1.2em;}#sk-container-id-1 div.sk-label-container {text-align: center;}#sk-container-id-1 div.sk-container {/* jupyter's `normalize.less` sets `[hidden] { display: none; }` but bootstrap.min.css set `[hidden] { display: none !important; }` so we also need the `!important` here to be able to override the default hidden behavior on the sphinx rendered scikit-learn.org. See: https://github.com/scikit-learn/scikit-learn/issues/21755 */display: inline-block !important;position: relative;}#sk-container-id-1 div.sk-text-repr-fallback {display: none;}</style><div id=\"sk-container-id-1\" class=\"sk-top-container\"><div class=\"sk-text-repr-fallback\"><pre>LogisticRegression(max_iter=1000)</pre><b>In a Jupyter environment, please rerun this cell to show the HTML representation or trust the notebook. <br />On GitHub, the HTML representation is unable to render, please try loading this page with nbviewer.org.</b></div><div class=\"sk-container\" hidden><div class=\"sk-item\"><div class=\"sk-estimator sk-toggleable\"><input class=\"sk-toggleable__control sk-hidden--visually\" id=\"sk-estimator-id-1\" type=\"checkbox\" checked><label for=\"sk-estimator-id-1\" class=\"sk-toggleable__label sk-toggleable__label-arrow\">LogisticRegression</label><div class=\"sk-toggleable__content\"><pre>LogisticRegression(max_iter=1000)</pre></div></div></div></div></div>"
      ],
      "text/plain": [
       "LogisticRegression(max_iter=1000)"
      ]
     },
     "execution_count": 52,
     "metadata": {},
     "output_type": "execute_result"
    }
   ],
   "source": [
    "# Logistic Regression Model\n",
    "logistic_model = LogisticRegression(max_iter=1000)\n",
    "logistic_model.fit(X_train, y_train)"
   ]
  },
  {
   "cell_type": "code",
   "execution_count": 54,
   "id": "10d001f2-88bb-4e5f-ad17-8b09ced34d58",
   "metadata": {},
   "outputs": [],
   "source": [
    "# Predict on the test data using the final model\n",
    "pred_prob_final = logistic_model.predict_proba(X_test)[:, 1]\n",
    "pred_final = logistic_model.predict(X_test)"
   ]
  },
  {
   "cell_type": "code",
   "execution_count": 56,
   "id": "acce61ec-143f-4f61-9fb1-87acb47b0736",
   "metadata": {},
   "outputs": [
    {
     "name": "stdout",
     "output_type": "stream",
     "text": [
      "Confusion Matrix for Logistic Regression:\n",
      " [[ 0 29]\n",
      " [ 0 94]]\n"
     ]
    }
   ],
   "source": [
    "# Confusion matrix for final logistic regression model\n",
    "conf_matrix_final = confusion_matrix(y_test, pred_final)\n",
    "print(\"Confusion Matrix for Logistic Regression:\\n\", conf_matrix_final)"
   ]
  },
  {
   "cell_type": "code",
   "execution_count": 58,
   "id": "75fae6a5-e585-4f91-bbe0-7fd753ea6995",
   "metadata": {},
   "outputs": [],
   "source": [
    "# Calculate accuracy, precision, recall, and F1 score for the final model\n",
    "accuracy_final = accuracy_score(y_test, pred_final)\n",
    "precision_final = precision_score(y_test, pred_final)\n",
    "recall_final = recall_score(y_test, pred_final)\n",
    "f1_score_final = f1_score(y_test, pred_final)"
   ]
  },
  {
   "cell_type": "code",
   "execution_count": 60,
   "id": "fc192724-a79c-420f-9a85-12cf3da8a8b7",
   "metadata": {},
   "outputs": [
    {
     "name": "stdout",
     "output_type": "stream",
     "text": [
      "Final Logistic Regression Model Accuracy: 0.7642276422764228\n",
      "Final Logistic Regression Model Precision: 0.7642276422764228\n",
      "Final Logistic Regression Model Recall: 1.0\n",
      "Final Logistic Regression Model F1 Score: 0.8663594470046084\n"
     ]
    }
   ],
   "source": [
    "# Print metrics for the final logistic regression model\n",
    "print(\"Final Logistic Regression Model Accuracy:\", accuracy_final)\n",
    "print(\"Final Logistic Regression Model Precision:\", precision_final)\n",
    "print(\"Final Logistic Regression Model Recall:\", recall_final)\n",
    "print(\"Final Logistic Regression Model F1 Score:\", f1_score_final)"
   ]
  },
  {
   "cell_type": "code",
   "execution_count": 62,
   "id": "41e0ad11-eb64-4aa2-916a-7c0195146b9e",
   "metadata": {},
   "outputs": [
    {
     "data": {
      "image/png": "[encoded data removed]",
      "text/plain": [
       "<Figure size 640x480 with 1 Axes>"
      ]
     },
     "metadata": {},
     "output_type": "display_data"
    }
   ],
   "source": [
    "# ROC curve and AUC for the final logistic regression model\n",
    "fpr, tpr, _ = roc_curve(y_test, pred_prob_final)\n",
    "auc_value_final = roc_auc_score(y_test, pred_prob_final)\n",
    "plt.plot(fpr, tpr, label=f'Logistic Regression (AUC = {auc_value_final:.2f})')\n",
    "plt.xlabel('False Positive Rate')\n",
    "plt.ylabel('True Positive Rate')\n",
    "plt.title('ROC Curve for Logistic Regression')\n",
    "plt.legend()\n",
    "plt.show()"
   ]
  },
  {
   "cell_type": "code",
   "execution_count": 64,
   "id": "69be948d-f0df-40a0-8a3c-2704b7ff4ebc",
   "metadata": {},
   "outputs": [
    {
     "data": {
      "text/html": [
       "<style>#sk-container-id-2 {color: black;background-color: white;}#sk-container-id-2 pre{padding: 0;}#sk-container-id-2 div.sk-toggleable {background-color: white;}#sk-container-id-2 label.sk-toggleable__label {cursor: pointer;display: block;width: 100%;margin-bottom: 0;padding: 0.3em;box-sizing: border-box;text-align: center;}#sk-container-id-2 label.sk-toggleable__label-arrow:before {content: \"▸\";float: left;margin-right: 0.25em;color: #696969;}#sk-container-id-2 label.sk-toggleable__label-arrow:hover:before {color: black;}#sk-container-id-2 div.sk-estimator:hover label.sk-toggleable__label-arrow:before {color: black;}#sk-container-id-2 div.sk-toggleable__content {max-height: 0;max-width: 0;overflow: hidden;text-align: left;background-color: #f0f8ff;}#sk-container-id-2 div.sk-toggleable__content pre {margin: 0.2em;color: black;border-radius: 0.25em;background-color: #f0f8ff;}#sk-container-id-2 input.sk-toggleable__control:checked~div.sk-toggleable__content {max-height: 200px;max-width: 100%;overflow: auto;}#sk-container-id-2 input.sk-toggleable__control:checked~label.sk-toggleable__label-arrow:before {content: \"▾\";}#sk-container-id-2 div.sk-estimator input.sk-toggleable__control:checked~label.sk-toggleable__label {background-color: #d4ebff;}#sk-container-id-2 div.sk-label input.sk-toggleable__control:checked~label.sk-toggleable__label {background-color: #d4ebff;}#sk-container-id-2 input.sk-hidden--visually {border: 0;clip: rect(1px 1px 1px 1px);clip: rect(1px, 1px, 1px, 1px);height: 1px;margin: -1px;overflow: hidden;padding: 0;position: absolute;width: 1px;}#sk-container-id-2 div.sk-estimator {font-family: monospace;background-color: #f0f8ff;border: 1px dotted black;border-radius: 0.25em;box-sizing: border-box;margin-bottom: 0.5em;}#sk-container-id-2 div.sk-estimator:hover {background-color: #d4ebff;}#sk-container-id-2 div.sk-parallel-item::after {content: \"\";width: 100%;border-bottom: 1px solid gray;flex-grow: 1;}#sk-container-id-2 div.sk-label:hover label.sk-toggleable__label {background-color: #d4ebff;}#sk-container-id-2 div.sk-serial::before {content: \"\";position: absolute;border-left: 1px solid gray;box-sizing: border-box;top: 0;bottom: 0;left: 50%;z-index: 0;}#sk-container-id-2 div.sk-serial {display: flex;flex-direction: column;align-items: center;background-color: white;padding-right: 0.2em;padding-left: 0.2em;position: relative;}#sk-container-id-2 div.sk-item {position: relative;z-index: 1;}#sk-container-id-2 div.sk-parallel {display: flex;align-items: stretch;justify-content: center;background-color: white;position: relative;}#sk-container-id-2 div.sk-item::before, #sk-container-id-2 div.sk-parallel-item::before {content: \"\";position: absolute;border-left: 1px solid gray;box-sizing: border-box;top: 0;bottom: 0;left: 50%;z-index: -1;}#sk-container-id-2 div.sk-parallel-item {display: flex;flex-direction: column;z-index: 1;position: relative;background-color: white;}#sk-container-id-2 div.sk-parallel-item:first-child::after {align-self: flex-end;width: 50%;}#sk-container-id-2 div.sk-parallel-item:last-child::after {align-self: flex-start;width: 50%;}#sk-container-id-2 div.sk-parallel-item:only-child::after {width: 0;}#sk-container-id-2 div.sk-dashed-wrapped {border: 1px dashed gray;margin: 0 0.4em 0.5em 0.4em;box-sizing: border-box;padding-bottom: 0.4em;background-color: white;}#sk-container-id-2 div.sk-label label {font-family: monospace;font-weight: bold;display: inline-block;line-height: 1.2em;}#sk-container-id-2 div.sk-label-container {text-align: center;}#sk-container-id-2 div.sk-container {/* jupyter's `normalize.less` sets `[hidden] { display: none; }` but bootstrap.min.css set `[hidden] { display: none !important; }` so we also need the `!important` here to be able to override the default hidden behavior on the sphinx rendered scikit-learn.org. See: https://github.com/scikit-learn/scikit-learn/issues/21755 */display: inline-block !important;position: relative;}#sk-container-id-2 div.sk-text-repr-fallback {display: none;}</style><div id=\"sk-container-id-2\" class=\"sk-top-container\"><div class=\"sk-text-repr-fallback\"><pre>DecisionTreeClassifier(ccp_alpha=0.005, max_depth=10, min_samples_split=10,\n",
       "                       random_state=123)</pre><b>In a Jupyter environment, please rerun this cell to show the HTML representation or trust the notebook. <br />On GitHub, the HTML representation is unable to render, please try loading this page with nbviewer.org.</b></div><div class=\"sk-container\" hidden><div class=\"sk-item\"><div class=\"sk-estimator sk-toggleable\"><input class=\"sk-toggleable__control sk-hidden--visually\" id=\"sk-estimator-id-2\" type=\"checkbox\" checked><label for=\"sk-estimator-id-2\" class=\"sk-toggleable__label sk-toggleable__label-arrow\">DecisionTreeClassifier</label><div class=\"sk-toggleable__content\"><pre>DecisionTreeClassifier(ccp_alpha=0.005, max_depth=10, min_samples_split=10,\n",
       "                       random_state=123)</pre></div></div></div></div></div>"
      ],
      "text/plain": [
       "DecisionTreeClassifier(ccp_alpha=0.005, max_depth=10, min_samples_split=10,\n",
       "                       random_state=123)"
      ]
     },
     "execution_count": 64,
     "metadata": {},
     "output_type": "execute_result"
    }
   ],
   "source": [
    "# Decision Tree Model\n",
    "tree_model = DecisionTreeClassifier(min_samples_split=10, ccp_alpha=0.005, max_depth=10, random_state=123)\n",
    "tree_model.fit(X_train, y_train)"
   ]
  },
  {
   "cell_type": "code",
   "execution_count": 66,
   "id": "5d046d48-2d13-43f3-bb96-e68a70b044c7",
   "metadata": {},
   "outputs": [],
   "source": [
    "# Predict on the test data\n",
    "tree_pred = tree_model.predict(X_test)"
   ]
  },
  {
   "cell_type": "code",
   "execution_count": 68,
   "id": "56c3dd0e-ccd0-4ddb-b93d-fca93aa068db",
   "metadata": {},
   "outputs": [
    {
     "name": "stdout",
     "output_type": "stream",
     "text": [
      "Confusion Matrix for Decision Tree:\n",
      " [[ 7 22]\n",
      " [23 71]]\n"
     ]
    }
   ],
   "source": [
    "# Confusion matrix for decision tree\n",
    "tree_conf_matrix = confusion_matrix(y_test, tree_pred)\n",
    "print(\"Confusion Matrix for Decision Tree:\\n\", tree_conf_matrix)"
   ]
  },
  {
   "cell_type": "code",
   "execution_count": 70,
   "id": "2afd3484-fa2f-49cb-afb4-b460da9768d3",
   "metadata": {},
   "outputs": [],
   "source": [
    "# Calculate accuracy, precision, recall, and F1 score for decision tree\n",
    "tree_accuracy = accuracy_score(y_test, tree_pred)\n",
    "tree_precision = precision_score(y_test, tree_pred)\n",
    "tree_recall = recall_score(y_test, tree_pred)\n",
    "tree_f1_score = f1_score(y_test, tree_pred)"
   ]
  },
  {
   "cell_type": "code",
   "execution_count": 74,
   "id": "0ab345de-047d-4425-9a21-a4bd27d10256",
   "metadata": {},
   "outputs": [
    {
     "name": "stdout",
     "output_type": "stream",
     "text": [
      "Decision Tree Accuracy: 0.6341463414634146\n",
      "Decision Tree Precision: 0.7634408602150538\n",
      "Decision Tree Recall: 0.7553191489361702\n",
      "Decision Tree F1 Score: 0.7593582887700534\n"
     ]
    }
   ],
   "source": [
    "# Print metrics for decision tree\n",
    "print(\"Decision Tree Accuracy:\", tree_accuracy)\n",
    "print(\"Decision Tree Precision:\", tree_precision)\n",
    "print(\"Decision Tree Recall:\", tree_recall)\n",
    "print(\"Decision Tree F1 Score:\", tree_f1_score)"
   ]
  },
  {
   "cell_type": "code",
   "execution_count": null,
   "id": "5f06b8d7-598b-4c3b-8526-afc4a0315024",
   "metadata": {},
   "outputs": [],
   "source": []
  }
 ],
 "metadata": {
  "kernelspec": {
   "display_name": "Python 3 (ipykernel)",
   "language": "python",
   "name": "python3"
  },
  "language_info": {
   "codemirror_mode": {
    "name": "ipython",
    "version": 3
   },
   "file_extension": ".py",
   "mimetype": "text/x-python",
   "name": "python",
   "nbconvert_exporter": "python",
   "pygments_lexer": "ipython3",
   "version": "3.11.7"
  }
 },
 "nbformat": 4,
 "nbformat_minor": 5
}
